{
 "cells": [
  {
   "cell_type": "code",
   "execution_count": 1,
   "id": "e04e3e94",
   "metadata": {
    "scrolled": true
   },
   "outputs": [],
   "source": [
    "# 우선 '도서관 정보나루'에서 자동으로 각각의 조합 별 카테고리 만드는 걸 해야 됨"
   ]
  },
  {
   "cell_type": "code",
   "execution_count": 2,
   "id": "33ca8773",
   "metadata": {},
   "outputs": [],
   "source": [
    "import os\n",
    "from selenium import webdriver\n",
    "import time\n",
    "import pandas as pd\n",
    "import numpy as np\n",
    "from selenium.webdriver.common.by import By\n",
    "from webdriver_manager.chrome import ChromeDriverManager\n",
    "from selenium.webdriver.support.ui import Select"
   ]
  },
  {
   "cell_type": "code",
   "execution_count": 3,
   "id": "02cfcfeb",
   "metadata": {},
   "outputs": [],
   "source": [
    "# 공통적인 부분 클릭 함수\n",
    "# 공통적인 부분 : 데이터 제공방식, 지역, 부가기호, 주제,결과 건수\n",
    "def select_same(driver):\n",
    "    driver.find_element(By.XPATH,'//*[@id=\"downOpt_Y\"]').click()\n",
    "    driver.find_element(By.XPATH,'//*[@id=\"region_A\"]').click()\n",
    "    driver.find_element(By.XPATH,'//*[@id=\"addcode1_A\"]').click()\n",
    "    driver.find_element(By.XPATH,'//*[@id=\"kdc100_0\"]').click()\n",
    "    driver.find_element(By.XPATH,'//*[@id=\"size_200\"]').click()"
   ]
  },
  {
   "cell_type": "code",
   "execution_count": 4,
   "id": "dd59fa80",
   "metadata": {},
   "outputs": [],
   "source": [
    "# 대출 기간 선택 함수 / 연도만 바뀌고 월 일 선택은 고정됨\n",
    "# 시작 캘린더 클릭 - 월 선택 - 연도 선택 - 날짜 선택\n",
    "# 종료 캘린더 클릭 - 월 선택 - 연도 선택 - 날짜 선택\n",
    "def select_duration(driver,n):\n",
    "    #시작 달력         \n",
    "    driver.find_element(By.XPATH,'//*[@id=\"search_form\"]/div[2]/dl/dd[2]/div/span[1]/label').click()\n",
    "    #월 선택        \n",
    "    select_element = driver.find_element(By.XPATH,'//*[@id=\"ui-datepicker-div\"]/div/div/select[1]')\n",
    "    select = Select(select_element)\n",
    "    select.select_by_value('0')\n",
    "    #연도 선택\n",
    "    select_element = driver.find_element(By.XPATH,'//*[@id=\"ui-datepicker-div\"]/div/div/select[2]')\n",
    "    select = Select(select_element)\n",
    "    select.select_by_value(n)\n",
    "    #1일 선택 : tr 1번째 줄 안에 a 태그 중 가장 처음 선택(미완!!!!)\n",
    "    start_day_list = driver.find_elements(By.XPATH,'//*[@id=\"ui-datepicker-div\"]/table/tbody/tr[1]/td/a')\n",
    "    start_day_list.pop(0).click()\n",
    "    #종료 달력        \n",
    "    driver.find_element(By.XPATH,'//*[@id=\"search_form\"]/div[2]/dl/dd[2]/div/span[2]/label')\n",
    "    #월 선택         \n",
    "    select_element = driver.find_element(By.XPATH,'//*[@id=\"ui-datepicker-div\"]/div/div/select[1]')\n",
    "    select = Select(select_element)\n",
    "    select.select_by_value('11')\n",
    "    #연도 선택         \n",
    "    select_element = driver.find_element(By.XPATH,'//*[@id=\"ui-datepicker-div\"]/div/div/select[2]')\n",
    "    select = Select(select_element)\n",
    "    select.select_by_value(n)\n",
    "    #31일 선택 : tr 5번째 줄 안에 a 태그 중 가장 마지막 선택(미완!!!!)\n",
    "    end_day_list = driver.find_elements(By.XPATH,'//*[@id=\"ui-datepicker-div\"]/table/tbody/tr[5]/td/a')\n",
    "    end_day_list.pop().click()\n",
    "            "
   ]
  },
  {
   "cell_type": "code",
   "execution_count": 5,
   "id": "95395c97",
   "metadata": {},
   "outputs": [],
   "source": [
    "# 성별의 경우 id로 구분함\n",
    "def select_gender(driver,i):\n",
    "    g_path = '//*[@id=\"gender_{}\"]'\n",
    "    c_g_path = g_path.format(str(i))\n",
    "    button = driver.find_element(By.XPATH,c_g_path)\n",
    "    button.click()\n",
    "    \n",
    "\n"
   ]
  },
  {
   "cell_type": "code",
   "execution_count": 6,
   "id": "d896a787",
   "metadata": {},
   "outputs": [],
   "source": [
    "# 연령의 경우 id로 구분함\n",
    "def select_age(driver,r):\n",
    "    a_path = '//*[@id=\"age_{}\"]'\n",
    "    c_a_path = a_path.format(str(r))\n",
    "    button2 = driver.find_element(By.XPATH,c_a_path)\n",
    "    button2.click()"
   ]
  },
  {
   "cell_type": "code",
   "execution_count": 7,
   "id": "496288b3",
   "metadata": {},
   "outputs": [],
   "source": [
    "# 데이터 다운로드 함수\n",
    "def download_csv(driver):\n",
    "    button = driver.find_element(By.XPATH,'//*[@id=\"sb-site\"]/section/div[2]/div[3]/div[1]/div[1]/a')\n",
    "    button.click()"
   ]
  },
  {
   "cell_type": "code",
   "execution_count": 8,
   "id": "1990e323",
   "metadata": {},
   "outputs": [
    {
     "ename": "ElementNotInteractableException",
     "evalue": "Message: element not interactable\n  (Session info: chrome=114.0.5735.199)\nStacktrace:\nBacktrace:\n\tGetHandleVerifier [0x00296E73+48323]\n\t(No symbol) [0x00229661]\n\t(No symbol) [0x001351D0]\n\t(No symbol) [0x001619E6]\n\t(No symbol) [0x0015A0FC]\n\t(No symbol) [0x0017A8DC]\n\t(No symbol) [0x00159BD6]\n\t(No symbol) [0x0017AC34]\n\t(No symbol) [0x0018CAC2]\n\t(No symbol) [0x0017A6D6]\n\t(No symbol) [0x0015847C]\n\t(No symbol) [0x0015957D]\n\tGetHandleVerifier [0x004FFD5D+2575277]\n\tGetHandleVerifier [0x0053F86E+2836158]\n\tGetHandleVerifier [0x005396DC+2811180]\n\tGetHandleVerifier [0x003241B0+626688]\n\t(No symbol) [0x0023314C]\n\t(No symbol) [0x0022F4B8]\n\t(No symbol) [0x0022F59B]\n\t(No symbol) [0x002221B7]\n\tBaseThreadInitThunk [0x769E7D59+25]\n\tRtlInitializeExceptionChain [0x77D1B79B+107]\n\tRtlClearBits [0x77D1B71F+191]\n\t(No symbol) [0x00000000]\n",
     "output_type": "error",
     "traceback": [
      "\u001b[1;31m---------------------------------------------------------------------------\u001b[0m",
      "\u001b[1;31mElementNotInteractableException\u001b[0m           Traceback (most recent call last)",
      "\u001b[1;32m~\\AppData\\Local\\Temp\\ipykernel_4048\\3840358747.py\u001b[0m in \u001b[0;36m<module>\u001b[1;34m\u001b[0m\n\u001b[0;32m      8\u001b[0m \u001b[1;31m# 2018~2022의 데이터를 연도 별 추출\u001b[0m\u001b[1;33m\u001b[0m\u001b[1;33m\u001b[0m\u001b[0m\n\u001b[0;32m      9\u001b[0m \u001b[1;32mfor\u001b[0m \u001b[0mn\u001b[0m \u001b[1;32min\u001b[0m \u001b[1;33m[\u001b[0m\u001b[1;36m2018\u001b[0m\u001b[1;33m,\u001b[0m\u001b[1;36m2019\u001b[0m\u001b[1;33m,\u001b[0m\u001b[1;36m2020\u001b[0m\u001b[1;33m,\u001b[0m\u001b[1;36m2021\u001b[0m\u001b[1;33m,\u001b[0m\u001b[1;36m2022\u001b[0m\u001b[1;33m]\u001b[0m\u001b[1;33m:\u001b[0m\u001b[1;33m\u001b[0m\u001b[1;33m\u001b[0m\u001b[0m\n\u001b[1;32m---> 10\u001b[1;33m     \u001b[0mselect_duration\u001b[0m\u001b[1;33m(\u001b[0m\u001b[0mdriver\u001b[0m\u001b[1;33m,\u001b[0m\u001b[0mn\u001b[0m\u001b[1;33m)\u001b[0m\u001b[1;33m\u001b[0m\u001b[1;33m\u001b[0m\u001b[0m\n\u001b[0m\u001b[0;32m     11\u001b[0m \u001b[1;31m# 성별 : 여성, 남성, 미성\u001b[0m\u001b[1;33m\u001b[0m\u001b[1;33m\u001b[0m\u001b[0m\n\u001b[0;32m     12\u001b[0m     \u001b[1;32mfor\u001b[0m \u001b[0mi\u001b[0m \u001b[1;32min\u001b[0m \u001b[1;33m[\u001b[0m\u001b[1;36m0\u001b[0m\u001b[1;33m,\u001b[0m\u001b[1;36m1\u001b[0m\u001b[1;33m,\u001b[0m\u001b[1;36m2\u001b[0m\u001b[1;33m]\u001b[0m\u001b[1;33m:\u001b[0m\u001b[1;33m\u001b[0m\u001b[1;33m\u001b[0m\u001b[0m\n",
      "\u001b[1;32m~\\AppData\\Local\\Temp\\ipykernel_4048\\46465662.py\u001b[0m in \u001b[0;36mselect_duration\u001b[1;34m(driver, n)\u001b[0m\n\u001b[0;32m      4\u001b[0m \u001b[1;32mdef\u001b[0m \u001b[0mselect_duration\u001b[0m\u001b[1;33m(\u001b[0m\u001b[0mdriver\u001b[0m\u001b[1;33m,\u001b[0m\u001b[0mn\u001b[0m\u001b[1;33m)\u001b[0m\u001b[1;33m:\u001b[0m\u001b[1;33m\u001b[0m\u001b[1;33m\u001b[0m\u001b[0m\n\u001b[0;32m      5\u001b[0m     \u001b[1;31m#시작 달력\u001b[0m\u001b[1;33m\u001b[0m\u001b[1;33m\u001b[0m\u001b[0m\n\u001b[1;32m----> 6\u001b[1;33m     \u001b[0mdriver\u001b[0m\u001b[1;33m.\u001b[0m\u001b[0mfind_element\u001b[0m\u001b[1;33m(\u001b[0m\u001b[0mBy\u001b[0m\u001b[1;33m.\u001b[0m\u001b[0mXPATH\u001b[0m\u001b[1;33m,\u001b[0m\u001b[1;34m'//*[@id=\"search_form\"]/div[2]/dl/dd[2]/div/span[1]/label'\u001b[0m\u001b[1;33m)\u001b[0m\u001b[1;33m.\u001b[0m\u001b[0mclick\u001b[0m\u001b[1;33m(\u001b[0m\u001b[1;33m)\u001b[0m\u001b[1;33m\u001b[0m\u001b[1;33m\u001b[0m\u001b[0m\n\u001b[0m\u001b[0;32m      7\u001b[0m     \u001b[1;31m#월 선택\u001b[0m\u001b[1;33m\u001b[0m\u001b[1;33m\u001b[0m\u001b[0m\n\u001b[0;32m      8\u001b[0m     \u001b[0mselect_element\u001b[0m \u001b[1;33m=\u001b[0m \u001b[0mdriver\u001b[0m\u001b[1;33m.\u001b[0m\u001b[0mfind_element\u001b[0m\u001b[1;33m(\u001b[0m\u001b[0mBy\u001b[0m\u001b[1;33m.\u001b[0m\u001b[0mXPATH\u001b[0m\u001b[1;33m,\u001b[0m\u001b[1;34m'//*[@id=\"ui-datepicker-div\"]/div/div/select[1]'\u001b[0m\u001b[1;33m)\u001b[0m\u001b[1;33m\u001b[0m\u001b[1;33m\u001b[0m\u001b[0m\n",
      "\u001b[1;32m~\\anaconda3\\lib\\site-packages\\selenium\\webdriver\\remote\\webelement.py\u001b[0m in \u001b[0;36mclick\u001b[1;34m(self)\u001b[0m\n\u001b[0;32m     92\u001b[0m     \u001b[1;32mdef\u001b[0m \u001b[0mclick\u001b[0m\u001b[1;33m(\u001b[0m\u001b[0mself\u001b[0m\u001b[1;33m)\u001b[0m \u001b[1;33m->\u001b[0m \u001b[1;32mNone\u001b[0m\u001b[1;33m:\u001b[0m\u001b[1;33m\u001b[0m\u001b[1;33m\u001b[0m\u001b[0m\n\u001b[0;32m     93\u001b[0m         \u001b[1;34m\"\"\"Clicks the element.\"\"\"\u001b[0m\u001b[1;33m\u001b[0m\u001b[1;33m\u001b[0m\u001b[0m\n\u001b[1;32m---> 94\u001b[1;33m         \u001b[0mself\u001b[0m\u001b[1;33m.\u001b[0m\u001b[0m_execute\u001b[0m\u001b[1;33m(\u001b[0m\u001b[0mCommand\u001b[0m\u001b[1;33m.\u001b[0m\u001b[0mCLICK_ELEMENT\u001b[0m\u001b[1;33m)\u001b[0m\u001b[1;33m\u001b[0m\u001b[1;33m\u001b[0m\u001b[0m\n\u001b[0m\u001b[0;32m     95\u001b[0m \u001b[1;33m\u001b[0m\u001b[0m\n\u001b[0;32m     96\u001b[0m     \u001b[1;32mdef\u001b[0m \u001b[0msubmit\u001b[0m\u001b[1;33m(\u001b[0m\u001b[0mself\u001b[0m\u001b[1;33m)\u001b[0m\u001b[1;33m:\u001b[0m\u001b[1;33m\u001b[0m\u001b[1;33m\u001b[0m\u001b[0m\n",
      "\u001b[1;32m~\\anaconda3\\lib\\site-packages\\selenium\\webdriver\\remote\\webelement.py\u001b[0m in \u001b[0;36m_execute\u001b[1;34m(self, command, params)\u001b[0m\n\u001b[0;32m    393\u001b[0m             \u001b[0mparams\u001b[0m \u001b[1;33m=\u001b[0m \u001b[1;33m{\u001b[0m\u001b[1;33m}\u001b[0m\u001b[1;33m\u001b[0m\u001b[1;33m\u001b[0m\u001b[0m\n\u001b[0;32m    394\u001b[0m         \u001b[0mparams\u001b[0m\u001b[1;33m[\u001b[0m\u001b[1;34m\"id\"\u001b[0m\u001b[1;33m]\u001b[0m \u001b[1;33m=\u001b[0m \u001b[0mself\u001b[0m\u001b[1;33m.\u001b[0m\u001b[0m_id\u001b[0m\u001b[1;33m\u001b[0m\u001b[1;33m\u001b[0m\u001b[0m\n\u001b[1;32m--> 395\u001b[1;33m         \u001b[1;32mreturn\u001b[0m \u001b[0mself\u001b[0m\u001b[1;33m.\u001b[0m\u001b[0m_parent\u001b[0m\u001b[1;33m.\u001b[0m\u001b[0mexecute\u001b[0m\u001b[1;33m(\u001b[0m\u001b[0mcommand\u001b[0m\u001b[1;33m,\u001b[0m \u001b[0mparams\u001b[0m\u001b[1;33m)\u001b[0m\u001b[1;33m\u001b[0m\u001b[1;33m\u001b[0m\u001b[0m\n\u001b[0m\u001b[0;32m    396\u001b[0m \u001b[1;33m\u001b[0m\u001b[0m\n\u001b[0;32m    397\u001b[0m     \u001b[1;32mdef\u001b[0m \u001b[0mfind_element\u001b[0m\u001b[1;33m(\u001b[0m\u001b[0mself\u001b[0m\u001b[1;33m,\u001b[0m \u001b[0mby\u001b[0m\u001b[1;33m=\u001b[0m\u001b[0mBy\u001b[0m\u001b[1;33m.\u001b[0m\u001b[0mID\u001b[0m\u001b[1;33m,\u001b[0m \u001b[0mvalue\u001b[0m\u001b[1;33m=\u001b[0m\u001b[1;32mNone\u001b[0m\u001b[1;33m)\u001b[0m \u001b[1;33m->\u001b[0m \u001b[0mWebElement\u001b[0m\u001b[1;33m:\u001b[0m\u001b[1;33m\u001b[0m\u001b[1;33m\u001b[0m\u001b[0m\n",
      "\u001b[1;32m~\\anaconda3\\lib\\site-packages\\selenium\\webdriver\\remote\\webdriver.py\u001b[0m in \u001b[0;36mexecute\u001b[1;34m(self, driver_command, params)\u001b[0m\n\u001b[0;32m    344\u001b[0m         \u001b[0mresponse\u001b[0m \u001b[1;33m=\u001b[0m \u001b[0mself\u001b[0m\u001b[1;33m.\u001b[0m\u001b[0mcommand_executor\u001b[0m\u001b[1;33m.\u001b[0m\u001b[0mexecute\u001b[0m\u001b[1;33m(\u001b[0m\u001b[0mdriver_command\u001b[0m\u001b[1;33m,\u001b[0m \u001b[0mparams\u001b[0m\u001b[1;33m)\u001b[0m\u001b[1;33m\u001b[0m\u001b[1;33m\u001b[0m\u001b[0m\n\u001b[0;32m    345\u001b[0m         \u001b[1;32mif\u001b[0m \u001b[0mresponse\u001b[0m\u001b[1;33m:\u001b[0m\u001b[1;33m\u001b[0m\u001b[1;33m\u001b[0m\u001b[0m\n\u001b[1;32m--> 346\u001b[1;33m             \u001b[0mself\u001b[0m\u001b[1;33m.\u001b[0m\u001b[0merror_handler\u001b[0m\u001b[1;33m.\u001b[0m\u001b[0mcheck_response\u001b[0m\u001b[1;33m(\u001b[0m\u001b[0mresponse\u001b[0m\u001b[1;33m)\u001b[0m\u001b[1;33m\u001b[0m\u001b[1;33m\u001b[0m\u001b[0m\n\u001b[0m\u001b[0;32m    347\u001b[0m             \u001b[0mresponse\u001b[0m\u001b[1;33m[\u001b[0m\u001b[1;34m\"value\"\u001b[0m\u001b[1;33m]\u001b[0m \u001b[1;33m=\u001b[0m \u001b[0mself\u001b[0m\u001b[1;33m.\u001b[0m\u001b[0m_unwrap_value\u001b[0m\u001b[1;33m(\u001b[0m\u001b[0mresponse\u001b[0m\u001b[1;33m.\u001b[0m\u001b[0mget\u001b[0m\u001b[1;33m(\u001b[0m\u001b[1;34m\"value\"\u001b[0m\u001b[1;33m,\u001b[0m \u001b[1;32mNone\u001b[0m\u001b[1;33m)\u001b[0m\u001b[1;33m)\u001b[0m\u001b[1;33m\u001b[0m\u001b[1;33m\u001b[0m\u001b[0m\n\u001b[0;32m    348\u001b[0m             \u001b[1;32mreturn\u001b[0m \u001b[0mresponse\u001b[0m\u001b[1;33m\u001b[0m\u001b[1;33m\u001b[0m\u001b[0m\n",
      "\u001b[1;32m~\\anaconda3\\lib\\site-packages\\selenium\\webdriver\\remote\\errorhandler.py\u001b[0m in \u001b[0;36mcheck_response\u001b[1;34m(self, response)\u001b[0m\n\u001b[0;32m    243\u001b[0m                 \u001b[0malert_text\u001b[0m \u001b[1;33m=\u001b[0m \u001b[0mvalue\u001b[0m\u001b[1;33m[\u001b[0m\u001b[1;34m\"alert\"\u001b[0m\u001b[1;33m]\u001b[0m\u001b[1;33m.\u001b[0m\u001b[0mget\u001b[0m\u001b[1;33m(\u001b[0m\u001b[1;34m\"text\"\u001b[0m\u001b[1;33m)\u001b[0m\u001b[1;33m\u001b[0m\u001b[1;33m\u001b[0m\u001b[0m\n\u001b[0;32m    244\u001b[0m             \u001b[1;32mraise\u001b[0m \u001b[0mexception_class\u001b[0m\u001b[1;33m(\u001b[0m\u001b[0mmessage\u001b[0m\u001b[1;33m,\u001b[0m \u001b[0mscreen\u001b[0m\u001b[1;33m,\u001b[0m \u001b[0mstacktrace\u001b[0m\u001b[1;33m,\u001b[0m \u001b[0malert_text\u001b[0m\u001b[1;33m)\u001b[0m  \u001b[1;31m# type: ignore[call-arg]  # mypy is not smart enough here\u001b[0m\u001b[1;33m\u001b[0m\u001b[1;33m\u001b[0m\u001b[0m\n\u001b[1;32m--> 245\u001b[1;33m         \u001b[1;32mraise\u001b[0m \u001b[0mexception_class\u001b[0m\u001b[1;33m(\u001b[0m\u001b[0mmessage\u001b[0m\u001b[1;33m,\u001b[0m \u001b[0mscreen\u001b[0m\u001b[1;33m,\u001b[0m \u001b[0mstacktrace\u001b[0m\u001b[1;33m)\u001b[0m\u001b[1;33m\u001b[0m\u001b[1;33m\u001b[0m\u001b[0m\n\u001b[0m",
      "\u001b[1;31mElementNotInteractableException\u001b[0m: Message: element not interactable\n  (Session info: chrome=114.0.5735.199)\nStacktrace:\nBacktrace:\n\tGetHandleVerifier [0x00296E73+48323]\n\t(No symbol) [0x00229661]\n\t(No symbol) [0x001351D0]\n\t(No symbol) [0x001619E6]\n\t(No symbol) [0x0015A0FC]\n\t(No symbol) [0x0017A8DC]\n\t(No symbol) [0x00159BD6]\n\t(No symbol) [0x0017AC34]\n\t(No symbol) [0x0018CAC2]\n\t(No symbol) [0x0017A6D6]\n\t(No symbol) [0x0015847C]\n\t(No symbol) [0x0015957D]\n\tGetHandleVerifier [0x004FFD5D+2575277]\n\tGetHandleVerifier [0x0053F86E+2836158]\n\tGetHandleVerifier [0x005396DC+2811180]\n\tGetHandleVerifier [0x003241B0+626688]\n\t(No symbol) [0x0023314C]\n\t(No symbol) [0x0022F4B8]\n\t(No symbol) [0x0022F59B]\n\t(No symbol) [0x002221B7]\n\tBaseThreadInitThunk [0x769E7D59+25]\n\tRtlInitializeExceptionChain [0x77D1B79B+107]\n\tRtlClearBits [0x77D1B71F+191]\n\t(No symbol) [0x00000000]\n"
     ]
    }
   ],
   "source": [
    "# 위의 함수들을 조합한 일련의 과정\n",
    "driver = webdriver.Chrome()\n",
    "driver.get('https://www.data4library.kr/loanDataL')\n",
    "time.sleep(3)\n",
    "driver.implicitly_wait(3)\n",
    "\n",
    "select_same(driver)\n",
    "# 2018~2022의 데이터를 연도 별 추출\n",
    "for n in [2018,2019,2020,2021,2022]:\n",
    "    select_duration(driver,n)\n",
    "# 성별 : 여성, 남성, 미성\n",
    "    for i in [0,1,2]:\n",
    "        select_gender(driver,i)\n",
    "#  연령 20대 ~ 60대 이상 및 미상 \n",
    "        for r in [20,30,40,50,60,-1]:\n",
    "            select_age(driver,r)\n",
    "            download_csv(driver)\n",
    "        "
   ]
  }
 ],
 "metadata": {
  "kernelspec": {
   "display_name": "Python 3 (ipykernel)",
   "language": "python",
   "name": "python3"
  },
  "language_info": {
   "codemirror_mode": {
    "name": "ipython",
    "version": 3
   },
   "file_extension": ".py",
   "mimetype": "text/x-python",
   "name": "python",
   "nbconvert_exporter": "python",
   "pygments_lexer": "ipython3",
   "version": "3.9.13"
  }
 },
 "nbformat": 4,
 "nbformat_minor": 5
}
