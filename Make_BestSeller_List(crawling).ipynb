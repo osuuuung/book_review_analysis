{
 "cells": [
  {
   "cell_type": "code",
   "execution_count": 9,
   "id": "e04e3e94",
   "metadata": {
    "scrolled": true
   },
   "outputs": [],
   "source": [
    "# 우선 '도서관 정보나루'에서 자동으로 각각의 조합 별 카테고리 만드는 걸 해야 됨"
   ]
  },
  {
   "cell_type": "code",
   "execution_count": 10,
   "id": "33ca8773",
   "metadata": {},
   "outputs": [],
   "source": [
    "import os\n",
    "from selenium import webdriver\n",
    "import time\n",
    "import pandas as pd\n",
    "import numpy as np\n",
    "from selenium.webdriver.common.by import By\n",
    "from webdriver_manager.chrome import ChromeDriverManager\n",
    "from selenium.webdriver.support.ui import Select"
   ]
  },
  {
   "cell_type": "code",
   "execution_count": 11,
   "id": "02cfcfeb",
   "metadata": {},
   "outputs": [],
   "source": [
    "# 공통적인 부분 클릭 함수\n",
    "# 공통적인 부분 : 데이터 제공방식, 지역, 부가기호, 주제,결과 건수\n",
    "def select_same(driver):\n",
    "    driver.find_element(By.XPATH,'//*[@id=\"downOpt_Y\"]').click()\n",
    "    driver.find_element(By.XPATH,'//*[@id=\"region_A\"]').click()\n",
    "    driver.find_element(By.XPATH,'//*[@id=\"addcode1_A\"]').click()\n",
    "    driver.find_element(By.XPATH,'//*[@id=\"kdc100_0\"]').click()\n",
    "    driver.find_element(By.XPATH,'//*[@id=\"size_200\"]').click()"
   ]
  },
  {
   "cell_type": "code",
   "execution_count": 12,
   "id": "dd59fa80",
   "metadata": {},
   "outputs": [],
   "source": [
    "# 대출 기간 선택 함수 / 연도만 바뀌고 월 일 선택은 고정됨\n",
    "# 시작 캘린더 클릭 - 월 선택 - 연도 선택 - 날짜 선택\n",
    "# 종료 캘린더 클릭 - 월 선택 - 연도 선택 - 날짜 선택\n",
    "def select_duration(driver,n):\n",
    "    #시작 달력         \n",
    "    driver.find_element(By.XPATH,'//*[@id=\"search_form\"]/div[2]/dl/dd[2]/div/span[1]/label').click()\n",
    "    #월 선택        \n",
    "    select_element = driver.find_element(By.XPATH,'//*[@id=\"ui-datepicker-div\"]/div/div/select[1]')\n",
    "    select = Select(select_element)\n",
    "    select.select_by_value('0')\n",
    "    #연도 선택\n",
    "    select_element = driver.find_element(By.XPATH,'//*[@id=\"ui-datepicker-div\"]/div/div/select[2]')\n",
    "    select = Select(select_element)\n",
    "    select.select_by_value(n)\n",
    "    #1일 선택 : tr 1번째 줄 안에 a 태그 중 가장 처음 선택(미완!!!!)\n",
    "    start_day_list = driver.find_elements(By.XPATH,'//*[@id=\"ui-datepicker-div\"]/table/tbody/tr[1]/td/a')\n",
    "    start_day_list.pop(0).click()\n",
    "    #종료 달력        \n",
    "    driver.find_element(By.XPATH,'//*[@id=\"search_form\"]/div[2]/dl/dd[2]/div/span[2]/label')\n",
    "    #월 선택         \n",
    "    select_element = driver.find_element(By.XPATH,'//*[@id=\"ui-datepicker-div\"]/div/div/select[1]')\n",
    "    select = Select(select_element)\n",
    "    select.select_by_value('11')\n",
    "    #연도 선택         \n",
    "    select_element = driver.find_element(By.XPATH,'//*[@id=\"ui-datepicker-div\"]/div/div/select[2]')\n",
    "    select = Select(select_element)\n",
    "    select.select_by_value(n)\n",
    "    #31일 선택 : tr 5번째 줄 안에 a 태그 중 가장 마지막 선택(미완!!!!)\n",
    "    end_day_list = driver.find_elements(By.XPATH,'//*[@id=\"ui-datepicker-div\"]/table/tbody/tr[5]/td/a')\n",
    "    end_day_list.pop().click()\n",
    "            "
   ]
  },
  {
   "cell_type": "code",
   "execution_count": 13,
   "id": "95395c97",
   "metadata": {},
   "outputs": [],
   "source": [
    "# 성별의 경우 id로 구분함\n",
    "def select_gender(driver,i):\n",
    "    g_path = '//*[@id=\"gender_{}\"]'\n",
    "    c_g_path = g_path.format(str(i))\n",
    "    button = driver.find_element(By.XPATH,c_g_path)\n",
    "    button.click()\n",
    "    \n",
    "\n"
   ]
  },
  {
   "cell_type": "code",
   "execution_count": 14,
   "id": "d896a787",
   "metadata": {},
   "outputs": [],
   "source": [
    "# 연령의 경우 id로 구분함\n",
    "def select_age(driver,r):\n",
    "    a_path = '//*[@id=\"age_{}\"]'\n",
    "    c_a_path = a_path.format(str(r))\n",
    "    button2 = driver.find_element(By.XPATH,c_a_path)\n",
    "    button2.click()"
   ]
  },
  {
   "cell_type": "code",
   "execution_count": 15,
   "id": "496288b3",
   "metadata": {},
   "outputs": [],
   "source": [
    "# 데이터 다운로드 함수\n",
    "def download_csv(driver):\n",
    "    button = driver.find_element(By.XPATH,'//*[@id=\"sb-site\"]/section/div[2]/div[3]/div[1]/div[1]/a')\n",
    "    button.click()"
   ]
  },
  {
   "cell_type": "code",
   "execution_count": 16,
   "id": "1990e323",
   "metadata": {},
   "outputs": [
    {
     "ename": "SessionNotCreatedException",
     "evalue": "Message: session not created: This version of ChromeDriver only supports Chrome version 114\nCurrent browser version is 116.0.5845.97 with binary path C:\\Program Files\\Google\\Chrome\\Application\\chrome.exe\nStacktrace:\nBacktrace:\n\tGetHandleVerifier [0x01026E73+48323]\n\t(No symbol) [0x00FB9661]\n\t(No symbol) [0x00EC5308]\n\t(No symbol) [0x00EE634C]\n\t(No symbol) [0x00EE2093]\n\t(No symbol) [0x00EE0719]\n\t(No symbol) [0x00F10DF5]\n\t(No symbol) [0x00F10ADC]\n\t(No symbol) [0x00F0A6D6]\n\t(No symbol) [0x00EE847C]\n\t(No symbol) [0x00EE957D]\n\tGetHandleVerifier [0x0128FD5D+2575277]\n\tGetHandleVerifier [0x012CF86E+2836158]\n\tGetHandleVerifier [0x012C96DC+2811180]\n\tGetHandleVerifier [0x010B41B0+626688]\n\t(No symbol) [0x00FC314C]\n\t(No symbol) [0x00FBF4B8]\n\t(No symbol) [0x00FBF59B]\n\t(No symbol) [0x00FB21B7]\n\tBaseThreadInitThunk [0x769E7D59+25]\n\tRtlInitializeExceptionChain [0x77D1B79B+107]\n\tRtlClearBits [0x77D1B71F+191]\n",
     "output_type": "error",
     "traceback": [
      "\u001b[1;31m---------------------------------------------------------------------------\u001b[0m",
      "\u001b[1;31mSessionNotCreatedException\u001b[0m                Traceback (most recent call last)",
      "\u001b[1;32m~\\AppData\\Local\\Temp\\ipykernel_7820\\3840358747.py\u001b[0m in \u001b[0;36m<module>\u001b[1;34m\u001b[0m\n\u001b[0;32m      1\u001b[0m \u001b[1;31m# 위의 함수들을 조합한 일련의 과정\u001b[0m\u001b[1;33m\u001b[0m\u001b[1;33m\u001b[0m\u001b[0m\n\u001b[1;32m----> 2\u001b[1;33m \u001b[0mdriver\u001b[0m \u001b[1;33m=\u001b[0m \u001b[0mwebdriver\u001b[0m\u001b[1;33m.\u001b[0m\u001b[0mChrome\u001b[0m\u001b[1;33m(\u001b[0m\u001b[1;33m)\u001b[0m\u001b[1;33m\u001b[0m\u001b[1;33m\u001b[0m\u001b[0m\n\u001b[0m\u001b[0;32m      3\u001b[0m \u001b[0mdriver\u001b[0m\u001b[1;33m.\u001b[0m\u001b[0mget\u001b[0m\u001b[1;33m(\u001b[0m\u001b[1;34m'https://www.data4library.kr/loanDataL'\u001b[0m\u001b[1;33m)\u001b[0m\u001b[1;33m\u001b[0m\u001b[1;33m\u001b[0m\u001b[0m\n\u001b[0;32m      4\u001b[0m \u001b[0mtime\u001b[0m\u001b[1;33m.\u001b[0m\u001b[0msleep\u001b[0m\u001b[1;33m(\u001b[0m\u001b[1;36m3\u001b[0m\u001b[1;33m)\u001b[0m\u001b[1;33m\u001b[0m\u001b[1;33m\u001b[0m\u001b[0m\n\u001b[0;32m      5\u001b[0m \u001b[0mdriver\u001b[0m\u001b[1;33m.\u001b[0m\u001b[0mimplicitly_wait\u001b[0m\u001b[1;33m(\u001b[0m\u001b[1;36m3\u001b[0m\u001b[1;33m)\u001b[0m\u001b[1;33m\u001b[0m\u001b[1;33m\u001b[0m\u001b[0m\n",
      "\u001b[1;32m~\\anaconda3\\lib\\site-packages\\selenium\\webdriver\\chrome\\webdriver.py\u001b[0m in \u001b[0;36m__init__\u001b[1;34m(self, options, service, keep_alive)\u001b[0m\n\u001b[0;32m     47\u001b[0m         \u001b[0mself\u001b[0m\u001b[1;33m.\u001b[0m\u001b[0mservice\u001b[0m\u001b[1;33m.\u001b[0m\u001b[0mpath\u001b[0m \u001b[1;33m=\u001b[0m \u001b[0mDriverFinder\u001b[0m\u001b[1;33m.\u001b[0m\u001b[0mget_path\u001b[0m\u001b[1;33m(\u001b[0m\u001b[0mself\u001b[0m\u001b[1;33m.\u001b[0m\u001b[0mservice\u001b[0m\u001b[1;33m,\u001b[0m \u001b[0mself\u001b[0m\u001b[1;33m.\u001b[0m\u001b[0moptions\u001b[0m\u001b[1;33m)\u001b[0m\u001b[1;33m\u001b[0m\u001b[1;33m\u001b[0m\u001b[0m\n\u001b[0;32m     48\u001b[0m \u001b[1;33m\u001b[0m\u001b[0m\n\u001b[1;32m---> 49\u001b[1;33m         super().__init__(\n\u001b[0m\u001b[0;32m     50\u001b[0m             \u001b[0mDesiredCapabilities\u001b[0m\u001b[1;33m.\u001b[0m\u001b[0mCHROME\u001b[0m\u001b[1;33m[\u001b[0m\u001b[1;34m\"browserName\"\u001b[0m\u001b[1;33m]\u001b[0m\u001b[1;33m,\u001b[0m\u001b[1;33m\u001b[0m\u001b[1;33m\u001b[0m\u001b[0m\n\u001b[0;32m     51\u001b[0m             \u001b[1;34m\"goog\"\u001b[0m\u001b[1;33m,\u001b[0m\u001b[1;33m\u001b[0m\u001b[1;33m\u001b[0m\u001b[0m\n",
      "\u001b[1;32m~\\anaconda3\\lib\\site-packages\\selenium\\webdriver\\chromium\\webdriver.py\u001b[0m in \u001b[0;36m__init__\u001b[1;34m(self, browser_name, vendor_prefix, options, service, keep_alive)\u001b[0m\n\u001b[0;32m     52\u001b[0m \u001b[1;33m\u001b[0m\u001b[0m\n\u001b[0;32m     53\u001b[0m         \u001b[1;32mtry\u001b[0m\u001b[1;33m:\u001b[0m\u001b[1;33m\u001b[0m\u001b[1;33m\u001b[0m\u001b[0m\n\u001b[1;32m---> 54\u001b[1;33m             super().__init__(\n\u001b[0m\u001b[0;32m     55\u001b[0m                 command_executor=ChromiumRemoteConnection(\n\u001b[0;32m     56\u001b[0m                     \u001b[0mremote_server_addr\u001b[0m\u001b[1;33m=\u001b[0m\u001b[0mself\u001b[0m\u001b[1;33m.\u001b[0m\u001b[0mservice\u001b[0m\u001b[1;33m.\u001b[0m\u001b[0mservice_url\u001b[0m\u001b[1;33m,\u001b[0m\u001b[1;33m\u001b[0m\u001b[1;33m\u001b[0m\u001b[0m\n",
      "\u001b[1;32m~\\anaconda3\\lib\\site-packages\\selenium\\webdriver\\remote\\webdriver.py\u001b[0m in \u001b[0;36m__init__\u001b[1;34m(self, command_executor, keep_alive, file_detector, options)\u001b[0m\n\u001b[0;32m    204\u001b[0m         \u001b[0mself\u001b[0m\u001b[1;33m.\u001b[0m\u001b[0m_authenticator_id\u001b[0m \u001b[1;33m=\u001b[0m \u001b[1;32mNone\u001b[0m\u001b[1;33m\u001b[0m\u001b[1;33m\u001b[0m\u001b[0m\n\u001b[0;32m    205\u001b[0m         \u001b[0mself\u001b[0m\u001b[1;33m.\u001b[0m\u001b[0mstart_client\u001b[0m\u001b[1;33m(\u001b[0m\u001b[1;33m)\u001b[0m\u001b[1;33m\u001b[0m\u001b[1;33m\u001b[0m\u001b[0m\n\u001b[1;32m--> 206\u001b[1;33m         \u001b[0mself\u001b[0m\u001b[1;33m.\u001b[0m\u001b[0mstart_session\u001b[0m\u001b[1;33m(\u001b[0m\u001b[0mcapabilities\u001b[0m\u001b[1;33m)\u001b[0m\u001b[1;33m\u001b[0m\u001b[1;33m\u001b[0m\u001b[0m\n\u001b[0m\u001b[0;32m    207\u001b[0m \u001b[1;33m\u001b[0m\u001b[0m\n\u001b[0;32m    208\u001b[0m     \u001b[1;32mdef\u001b[0m \u001b[0m__repr__\u001b[0m\u001b[1;33m(\u001b[0m\u001b[0mself\u001b[0m\u001b[1;33m)\u001b[0m\u001b[1;33m:\u001b[0m\u001b[1;33m\u001b[0m\u001b[1;33m\u001b[0m\u001b[0m\n",
      "\u001b[1;32m~\\anaconda3\\lib\\site-packages\\selenium\\webdriver\\remote\\webdriver.py\u001b[0m in \u001b[0;36mstart_session\u001b[1;34m(self, capabilities)\u001b[0m\n\u001b[0;32m    289\u001b[0m \u001b[1;33m\u001b[0m\u001b[0m\n\u001b[0;32m    290\u001b[0m         \u001b[0mcaps\u001b[0m \u001b[1;33m=\u001b[0m \u001b[0m_create_caps\u001b[0m\u001b[1;33m(\u001b[0m\u001b[0mcapabilities\u001b[0m\u001b[1;33m)\u001b[0m\u001b[1;33m\u001b[0m\u001b[1;33m\u001b[0m\u001b[0m\n\u001b[1;32m--> 291\u001b[1;33m         \u001b[0mresponse\u001b[0m \u001b[1;33m=\u001b[0m \u001b[0mself\u001b[0m\u001b[1;33m.\u001b[0m\u001b[0mexecute\u001b[0m\u001b[1;33m(\u001b[0m\u001b[0mCommand\u001b[0m\u001b[1;33m.\u001b[0m\u001b[0mNEW_SESSION\u001b[0m\u001b[1;33m,\u001b[0m \u001b[0mcaps\u001b[0m\u001b[1;33m)\u001b[0m\u001b[1;33m[\u001b[0m\u001b[1;34m\"value\"\u001b[0m\u001b[1;33m]\u001b[0m\u001b[1;33m\u001b[0m\u001b[1;33m\u001b[0m\u001b[0m\n\u001b[0m\u001b[0;32m    292\u001b[0m         \u001b[0mself\u001b[0m\u001b[1;33m.\u001b[0m\u001b[0msession_id\u001b[0m \u001b[1;33m=\u001b[0m \u001b[0mresponse\u001b[0m\u001b[1;33m.\u001b[0m\u001b[0mget\u001b[0m\u001b[1;33m(\u001b[0m\u001b[1;34m\"sessionId\"\u001b[0m\u001b[1;33m)\u001b[0m\u001b[1;33m\u001b[0m\u001b[1;33m\u001b[0m\u001b[0m\n\u001b[0;32m    293\u001b[0m         \u001b[0mself\u001b[0m\u001b[1;33m.\u001b[0m\u001b[0mcaps\u001b[0m \u001b[1;33m=\u001b[0m \u001b[0mresponse\u001b[0m\u001b[1;33m.\u001b[0m\u001b[0mget\u001b[0m\u001b[1;33m(\u001b[0m\u001b[1;34m\"capabilities\"\u001b[0m\u001b[1;33m)\u001b[0m\u001b[1;33m\u001b[0m\u001b[1;33m\u001b[0m\u001b[0m\n",
      "\u001b[1;32m~\\anaconda3\\lib\\site-packages\\selenium\\webdriver\\remote\\webdriver.py\u001b[0m in \u001b[0;36mexecute\u001b[1;34m(self, driver_command, params)\u001b[0m\n\u001b[0;32m    344\u001b[0m         \u001b[0mresponse\u001b[0m \u001b[1;33m=\u001b[0m \u001b[0mself\u001b[0m\u001b[1;33m.\u001b[0m\u001b[0mcommand_executor\u001b[0m\u001b[1;33m.\u001b[0m\u001b[0mexecute\u001b[0m\u001b[1;33m(\u001b[0m\u001b[0mdriver_command\u001b[0m\u001b[1;33m,\u001b[0m \u001b[0mparams\u001b[0m\u001b[1;33m)\u001b[0m\u001b[1;33m\u001b[0m\u001b[1;33m\u001b[0m\u001b[0m\n\u001b[0;32m    345\u001b[0m         \u001b[1;32mif\u001b[0m \u001b[0mresponse\u001b[0m\u001b[1;33m:\u001b[0m\u001b[1;33m\u001b[0m\u001b[1;33m\u001b[0m\u001b[0m\n\u001b[1;32m--> 346\u001b[1;33m             \u001b[0mself\u001b[0m\u001b[1;33m.\u001b[0m\u001b[0merror_handler\u001b[0m\u001b[1;33m.\u001b[0m\u001b[0mcheck_response\u001b[0m\u001b[1;33m(\u001b[0m\u001b[0mresponse\u001b[0m\u001b[1;33m)\u001b[0m\u001b[1;33m\u001b[0m\u001b[1;33m\u001b[0m\u001b[0m\n\u001b[0m\u001b[0;32m    347\u001b[0m             \u001b[0mresponse\u001b[0m\u001b[1;33m[\u001b[0m\u001b[1;34m\"value\"\u001b[0m\u001b[1;33m]\u001b[0m \u001b[1;33m=\u001b[0m \u001b[0mself\u001b[0m\u001b[1;33m.\u001b[0m\u001b[0m_unwrap_value\u001b[0m\u001b[1;33m(\u001b[0m\u001b[0mresponse\u001b[0m\u001b[1;33m.\u001b[0m\u001b[0mget\u001b[0m\u001b[1;33m(\u001b[0m\u001b[1;34m\"value\"\u001b[0m\u001b[1;33m,\u001b[0m \u001b[1;32mNone\u001b[0m\u001b[1;33m)\u001b[0m\u001b[1;33m)\u001b[0m\u001b[1;33m\u001b[0m\u001b[1;33m\u001b[0m\u001b[0m\n\u001b[0;32m    348\u001b[0m             \u001b[1;32mreturn\u001b[0m \u001b[0mresponse\u001b[0m\u001b[1;33m\u001b[0m\u001b[1;33m\u001b[0m\u001b[0m\n",
      "\u001b[1;32m~\\anaconda3\\lib\\site-packages\\selenium\\webdriver\\remote\\errorhandler.py\u001b[0m in \u001b[0;36mcheck_response\u001b[1;34m(self, response)\u001b[0m\n\u001b[0;32m    243\u001b[0m                 \u001b[0malert_text\u001b[0m \u001b[1;33m=\u001b[0m \u001b[0mvalue\u001b[0m\u001b[1;33m[\u001b[0m\u001b[1;34m\"alert\"\u001b[0m\u001b[1;33m]\u001b[0m\u001b[1;33m.\u001b[0m\u001b[0mget\u001b[0m\u001b[1;33m(\u001b[0m\u001b[1;34m\"text\"\u001b[0m\u001b[1;33m)\u001b[0m\u001b[1;33m\u001b[0m\u001b[1;33m\u001b[0m\u001b[0m\n\u001b[0;32m    244\u001b[0m             \u001b[1;32mraise\u001b[0m \u001b[0mexception_class\u001b[0m\u001b[1;33m(\u001b[0m\u001b[0mmessage\u001b[0m\u001b[1;33m,\u001b[0m \u001b[0mscreen\u001b[0m\u001b[1;33m,\u001b[0m \u001b[0mstacktrace\u001b[0m\u001b[1;33m,\u001b[0m \u001b[0malert_text\u001b[0m\u001b[1;33m)\u001b[0m  \u001b[1;31m# type: ignore[call-arg]  # mypy is not smart enough here\u001b[0m\u001b[1;33m\u001b[0m\u001b[1;33m\u001b[0m\u001b[0m\n\u001b[1;32m--> 245\u001b[1;33m         \u001b[1;32mraise\u001b[0m \u001b[0mexception_class\u001b[0m\u001b[1;33m(\u001b[0m\u001b[0mmessage\u001b[0m\u001b[1;33m,\u001b[0m \u001b[0mscreen\u001b[0m\u001b[1;33m,\u001b[0m \u001b[0mstacktrace\u001b[0m\u001b[1;33m)\u001b[0m\u001b[1;33m\u001b[0m\u001b[1;33m\u001b[0m\u001b[0m\n\u001b[0m",
      "\u001b[1;31mSessionNotCreatedException\u001b[0m: Message: session not created: This version of ChromeDriver only supports Chrome version 114\nCurrent browser version is 116.0.5845.97 with binary path C:\\Program Files\\Google\\Chrome\\Application\\chrome.exe\nStacktrace:\nBacktrace:\n\tGetHandleVerifier [0x01026E73+48323]\n\t(No symbol) [0x00FB9661]\n\t(No symbol) [0x00EC5308]\n\t(No symbol) [0x00EE634C]\n\t(No symbol) [0x00EE2093]\n\t(No symbol) [0x00EE0719]\n\t(No symbol) [0x00F10DF5]\n\t(No symbol) [0x00F10ADC]\n\t(No symbol) [0x00F0A6D6]\n\t(No symbol) [0x00EE847C]\n\t(No symbol) [0x00EE957D]\n\tGetHandleVerifier [0x0128FD5D+2575277]\n\tGetHandleVerifier [0x012CF86E+2836158]\n\tGetHandleVerifier [0x012C96DC+2811180]\n\tGetHandleVerifier [0x010B41B0+626688]\n\t(No symbol) [0x00FC314C]\n\t(No symbol) [0x00FBF4B8]\n\t(No symbol) [0x00FBF59B]\n\t(No symbol) [0x00FB21B7]\n\tBaseThreadInitThunk [0x769E7D59+25]\n\tRtlInitializeExceptionChain [0x77D1B79B+107]\n\tRtlClearBits [0x77D1B71F+191]\n"
     ]
    }
   ],
   "source": [
    "# 위의 함수들을 조합한 일련의 과정\n",
    "driver = webdriver.Chrome()\n",
    "driver.get('https://www.data4library.kr/loanDataL')\n",
    "time.sleep(3)\n",
    "driver.implicitly_wait(3)\n",
    "\n",
    "select_same(driver)\n",
    "# 2018~2022의 데이터를 연도 별 추출\n",
    "for n in [2018,2019,2020,2021,2022]:\n",
    "    select_duration(driver,n)\n",
    "# 성별 : 여성, 남성, 미성\n",
    "    for i in [0,1,2]:\n",
    "        select_gender(driver,i)\n",
    "#  연령 20대 ~ 60대 이상 및 미상 \n",
    "        for r in [20,30,40,50,60,-1]:\n",
    "            select_age(driver,r)\n",
    "            download_csv(driver)\n",
    "        "
   ]
  }
 ],
 "metadata": {
  "kernelspec": {
   "display_name": "Python 3 (ipykernel)",
   "language": "python",
   "name": "python3"
  },
  "language_info": {
   "codemirror_mode": {
    "name": "ipython",
    "version": 3
   },
   "file_extension": ".py",
   "mimetype": "text/x-python",
   "name": "python",
   "nbconvert_exporter": "python",
   "pygments_lexer": "ipython3",
   "version": "3.9.13"
  }
 },
 "nbformat": 4,
 "nbformat_minor": 5
}
