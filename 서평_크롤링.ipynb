{
 "cells": [
  {
   "cell_type": "code",
   "execution_count": 1,
   "id": "e701757a",
   "metadata": {},
   "outputs": [],
   "source": [
    "import os\n",
    "from selenium import webdriver\n",
    "import time\n",
    "import pandas as pd\n",
    "import numpy as np\n",
    "from selenium.webdriver.common.by import By\n",
    "from selenium.webdriver.support.ui import WebDriverWait\n",
    "from selenium.webdriver.support import expected_conditions as EC\n",
    "from openpyxl import Workbook\n",
    "from selenium.webdriver.chrome.options import Options\n",
    "from selenium.webdriver.support.ui import Select\n",
    "from selenium.webdriver.common.keys import Keys"
   ]
  },
  {
   "cell_type": "markdown",
   "id": "3a21edbe",
   "metadata": {},
   "source": [
    "## 네이버에서 서적을 검색하고 해당 서적 설명 페이지에서 서평 내용 크롤링 하기"
   ]
  },
  {
   "cell_type": "code",
   "execution_count": 2,
   "id": "d10835c5",
   "metadata": {},
   "outputs": [],
   "source": [
    "# 교보 문고 홈페이지에서 특정 도서에 대해 검색하기\n",
    "def search_book(driver,name):\n",
    "    base_url = 'https://search.kyobobook.co.kr/search?keyword={}&target=total&gbCode=TOT&ra=qntt'\n",
    "    driver.get(base_url.format(name))\n",
    "    # 졍렬된 도서들 중에서 첫번째 도서 선택하기\n",
    "    book_link = driver.find_element(By.XPATH,'//*[@id=\"shopData_list\"]/ul/li[1]/div[1]/div[2]/div[2]/div[1]/div/a')\n",
    "    book_link.click()"
   ]
  },
  {
   "cell_type": "code",
   "execution_count": 3,
   "id": "1ee26268",
   "metadata": {},
   "outputs": [],
   "source": [
    "# 출판사 서평 스크랩하기\n",
    "def collect_review(driver):\n",
    "    # 출판사 서평 찾아서 '펼치기' 버튼 누르기\n",
    "    review_button = driver.find_element(By.XPATH,'//*[@class=\"product_detail_area book_publish_review\"]/div[2]/div[2]/button')\n",
    "    driver.execute_script(\"arguments[0].click();\", review_button)\n",
    "    # 출판사 서평 스크랩하기\n",
    "    review_tag = driver.find_element(By.XPATH,'//*[@class=\"product_detail_area book_publish_review\"]/div[2]/div[1]/div/p')\n",
    "    comment = review_tag.text\n",
    "    return comment"
   ]
  },
  {
   "cell_type": "code",
   "execution_count": 6,
   "id": "1abbd8f7",
   "metadata": {
    "scrolled": true
   },
   "outputs": [],
   "source": [
    "driver = webdriver.Chrome()\n",
    "driver.implicitly_wait(5)\n",
    "\n",
    "name = '사피엔스'\n",
    "search_book(driver,name)\n",
    "comment = collect_review(driver)\n",
    "driver.quit()"
   ]
  },
  {
   "cell_type": "code",
   "execution_count": 7,
   "id": "cefc5b90",
   "metadata": {},
   "outputs": [
    {
     "name": "stdout",
     "output_type": "stream",
     "text": [
      "출간 10주년·200쇄·115만부 기념\n",
      "유발 하라리 특별 서문 수록\n",
      "\n",
      "‘천재 사상가’(뉴욕타임스) 유발 하라리의 대표작 《사피엔스》. 이제 불황이라는 수식어가 전혀 어색하지 않은 국내 출판시장에서도 《사피엔스》는 인문교양 분야의 트렌드를 주도하며 2023년 1월 기준 ‘200쇄 발행·115만부 판매’라는 놀라운 성적을 거두고 있다. 전 세계적으로는 65개 국어로 출간되어 2,300만부 이상 팔려 글로벌 베스트셀러로 자리매김한 지 오래다. 빌 게이츠, 재레드 다이아몬드, 마크 저커버그, 뇌과학자 김대식 카이스트 교수, 유시민 작가, 김상욱 경희대 물리학과 교수 등 국내외 내로라하는 지성인들이 강력 추천한 《사피엔스》는 명실상부 우리 시대의 고전이다. 인류 역사와 미래를 종횡무진 가로지르는 《사피엔스》의 통찰은 불확실하고 복잡한 세계를 이해하고 대비하는 데 반드시 필요하다.\n",
      "책 서두에는 2011년 원서 출간 이후 10년을 돌아보고 위기 상황을 맞은 인류에게 건네는 제언이 특별 서문으로 수록되었다. 기후위기와 코로나 팬데믹, 미·중 패권 경쟁과 러시아의 우크라이나 침공, 기술혁신의 명암과 날로 심해지는 양극화, 그리고 세계 곳곳에서 목격되는 민주주의 붕괴와 장기 경기침체 조짐까지. 현재 인류는 그 어느 때보다 어려운 상황을 맞고 있다. 난국을 헤쳐나가기 위해 무엇을 해야 할까? 저자는 더 나은 세상을 위한 키워드로 ‘인간 이해’를 강조한다. 출간 10주년 서문이지만 글로벌 베스트셀러를 출간한 개인적인 소회보다는 유례없는 난관을 헤쳐나가기 위해 동료 사피엔스에게 전하는 호소가 담겨 있다.\n",
      "\n",
      "\n",
      "“인공지능의 시대, 우리가 알아야 할 것은 코딩보다 인간의 마음.”\n",
      "특별 서문을 통해 동료 사피엔스에게 전하는 호소의 글\n",
      "\n",
      "특별 서문은 저자가 느낀 충격과 당혹감으로 시작한다. 최근 전 세계인의 이목을 집중시킨 ‘챗GPT’의 이전 버전인 ‘GPT-3’라는 강한 인공지능이 저자를 흉내 내 쓴 글이 놀랍도록 그럴싸했기 때문이다. “나는 GPT-3의 일부 주장에 동의하지 않는다. 하지만 그 글이 실제로 모종의 주장을 펴고 있다는 점에서 놀라지 않을 수 없었다.” 《사피엔스》 출간 이후 10년간 인공지능은 혁명적으로 인류의 삶을 바꾸어놓았다. 저자의 예측대로 머지않아 우리 자신보다 인공지능이 우리를 더 잘 이해하는 날이 올지도 모른다. 디스토피아 영화가 현실이 될 것인가?\n",
      "다가올 기술의 시대, 컴퓨터 프로그램이 아니라 인간의 마음을 이해할 때 새로운 길이 열릴 것이라고 저자는 말한다. 인류는 신과 국가와 기업에 대한 허구의 이야기를 만들어내 문명을 탄생시켜 발전해왔다. “인간은 다른 어떤 동물보다 더 많은 사실을 알지만, 또한 더 많은 허구를 믿는다. 이런 이야기들이 우리 사회의 근간이자 우리 삶에 의미를 주는 원천이다.” 그래서 새로운 시대를 맞아 새로운 이야기를 만들어낼 인간의 마음을 아는 것이 코딩을 아는 것보다 중요하다. 기술 전문가, 경제학자의 지식뿐 아니라 시인과 철학자, 역사가의 지혜가 더욱 필요한 이유다.\n",
      "\n",
      "\n",
      "인간의 역사와 미래에 대한 가장 논쟁적이고 대담한 대서사\n",
      "문명의 배를 타고 진화의 바다를 항해한 인류는 이제 어디로 나아갈 것인가!\n",
      "\n",
      "《사피엔스》는 풍부한 지식·정보를 번뜩이는 스토리텔링으로 직조해 보기 드물게 재미있는 인문교양서다. 벽돌책이지만 많은 독자의 선택을 받는 이유다. 폭넓은 지식에다 대담한 해석과 통찰에, 대중을 흡인하는 경쾌한 글솜씨까지 겸비한 하라리의 책을 읽는 경험은 성대한 지적 향연에 초대받는 즐거움을 준다. 고고인류학부터 정치, 사회, 경제, 문화, 생명공학, 정보기술, 데이터과학에 이르는 신구 학문의 최신 성과를 고루 담고 있어, 《사피엔스》를 읽고 나면 웬만한 분야의 주요 저서들을 두루 섭렵한 셈이 된다. 그러면서도 그는 결코 가볍지 않은 주제들을 무겁지 않게 풀어낼 줄 안다. 각 분야의 연구 성과들을 소화해 이야기의 토대와 큰 줄기로 삼되 절묘한 지점에서 자신만의 추론과 상상으로 가지를 뻗는다. 자연과 문화, 물질과 의식, 성과 속, 종교와 과학, 민주주의와 민족주의, 정체성과 의미, 알고리즘과 데이터 같은 굵직굵직한 학문적 담론이 그의 손에서는 흥미진진한 스토리로 둔갑한다.\n",
      "변방의 유인원 호모 사피엔스는 어떻게 세상의 지배자가 되었는가? 수렵채집을 하던 우리 조상들은 어떻게 한곳에 모여 도시와 왕국을 건설했는가? 인간은 왜 지구 역사상 가장 치명적인 동물이 되었는가? 과학은 모든 종교의 미래인가? 인간의 유효기간은 언제까지인가? 인류의 시원부터 인지혁명, 농업혁명, 과학혁명을 거쳐 끊임없이 진화해온 인간의 역사를 생물학, 경제학, 종교학, 심리학, 철학 등 여러 학문의 경계를 넘나들며 다양하고 생생하게 조명한 전인미답의 문제작 《사피엔스》. 당신은 이 책을 사랑할 수밖에 없다(제레드 다이아몬드).\n"
     ]
    }
   ],
   "source": [
    "print(comment)"
   ]
  }
 ],
 "metadata": {
  "kernelspec": {
   "display_name": "Python 3 (ipykernel)",
   "language": "python",
   "name": "python3"
  },
  "language_info": {
   "codemirror_mode": {
    "name": "ipython",
    "version": 3
   },
   "file_extension": ".py",
   "mimetype": "text/x-python",
   "name": "python",
   "nbconvert_exporter": "python",
   "pygments_lexer": "ipython3",
   "version": "3.9.13"
  }
 },
 "nbformat": 4,
 "nbformat_minor": 5
}
