{
 "cells": [
  {
   "cell_type": "code",
   "execution_count": 2,
   "id": "b3c980aa",
   "metadata": {},
   "outputs": [],
   "source": [
    "import os\n",
    "from selenium import webdriver\n",
    "import time\n",
    "import pandas as pd\n",
    "import numpy as np\n",
    "from selenium.webdriver.common.by import By\n",
    "from selenium.webdriver.support.ui import WebDriverWait\n",
    "from selenium.webdriver.support import expected_conditions as EC\n",
    "from selenium.webdriver.support.ui import Select\n",
    "from selenium.webdriver.common.keys import Keys\n",
    "import networkx as nx\n",
    "from concurrent.futures import ThreadPoolExecutor\n",
    "from math import ceil"
   ]
  },
  {
   "cell_type": "code",
   "execution_count": 3,
   "id": "fe1d825e",
   "metadata": {},
   "outputs": [],
   "source": [
    "df = pd.read_excel('list_of_books_by_groups.xlsx')\n",
    "group_name_list = df.columns.tolist()"
   ]
  },
  {
   "cell_type": "code",
   "execution_count": 5,
   "id": "4cdd1a2d",
   "metadata": {},
   "outputs": [],
   "source": [
    "driver = webdriver.Chrome()"
   ]
  },
  {
   "cell_type": "code",
   "execution_count": 8,
   "id": "e88eb46e",
   "metadata": {},
   "outputs": [
    {
     "name": "stdout",
     "output_type": "stream",
     "text": [
      "구독과 좋아요 알림 설정까지~\n",
      "찐 구독자를 모으는 채널 기획과 10만 유튜버의 비밀스러운 광고 수익 모두 공개!\n",
      "* 유튜브 분야 베스트셀러 〈된다! 김메주의 유튜브 영상 만들기〉 개정 2판 출시!‘초보 유튜버를 위한 필독서’가 개정 2판으로 다시 돌아왔다! 이 책은 평범한 직장인의 소소한 매일이 ‘유튜버’로서 특별해지기까지 1년의 시간을 꾹꾹 눌러담았다. 아직도 ‘내가 크리에이터가 될 수 있을까?’라고 자문하고 있다면 이 책을 펼쳐 보자. 막연한 동기부여가 아닌 지금 당장 내가 할 수 있는 것부터 차근차근 시작하는 기술을 알려 줄 것이다.\n",
      "먼저 유튜브 채널을 만들고 소재를 찾아 채널을 기획해 기반을 탄탄히 다진 다음 ‘프리미어 러시’로 영상 편집 1일차도 예능 한 편을 뚝딱 만드는 법을 소개한다. 여기에 자막 템플릿, 채널 기획안 양식 그리고 모르면 무조건 손해인 저작권 상담소는 덤!\n",
      "나만의 채널과 영상을 만들었다면 이제 구독자를 만날 시간! 기억에 남는 채널을 꾸미고 구독자를 모으는 방법과 유튜브 외에도 여러 채널에서 수익을 내는 구조까지 놓치지 말고 챙기자. 여기에 개정 2판에서만 볼 수 있는 가장 최근 ‘YouTube 스튜디오’와 ‘요즘 시청자’를 홀리는 짧은 영상, 쇼츠를 십분 활용하는 법까지 만나 보자.\n"
     ]
    }
   ],
   "source": [
    "# search_book 부분\n",
    "base_url = 'https://search.kyobobook.co.kr/search?keyword={}&gbCode=TOT&target=total'\n",
    "\n",
    "wait = WebDriverWait(driver, 30)\n",
    "\n",
    "name = '된다! 김메주의 유튜브 영상 만들기'\n",
    "\n",
    "driver.get(base_url.format(name))\n",
    "try :\n",
    "    book_link = wait.until(EC.presence_of_element_located((By.XPATH,'//*[@id=\"shopData_list\"]/ul/li[1]/div[1]/div[2]/div[2]/div[1]/div/a')))\n",
    "    book_link.click()\n",
    "except:\n",
    "    book_link = wait.until(EC.presence_of_element_located((By.XPATH,'//*[@id=\"shopData_list\"]/ul/li/div[1]/div[2]/div[2]/div[1]/div/a')))\n",
    "    book_link.click()\n",
    "\n",
    "# collect_review 부분\n",
    "wait = WebDriverWait(driver, 10)\n",
    "comment = ''\n",
    "review_tag = wait.until(EC.presence_of_all_elements_located((By.CSS_SELECTOR,'div.intro_bottom  div.info_text')))\n",
    "\n",
    "if len(review_tag) == 1 :\n",
    "    comment = review_tag[0].text\n",
    "elif len(review_tag) >= 2 :\n",
    "    for review in review_tag:\n",
    "        comment += review.text\n",
    "else:\n",
    "    comment = None\n",
    "\n",
    "print(comment)"
   ]
  },
  {
   "cell_type": "code",
   "execution_count": null,
   "id": "251369cc",
   "metadata": {},
   "outputs": [],
   "source": []
  }
 ],
 "metadata": {
  "kernelspec": {
   "display_name": "Python 3 (ipykernel)",
   "language": "python",
   "name": "python3"
  },
  "language_info": {
   "codemirror_mode": {
    "name": "ipython",
    "version": 3
   },
   "file_extension": ".py",
   "mimetype": "text/x-python",
   "name": "python",
   "nbconvert_exporter": "python",
   "pygments_lexer": "ipython3",
   "version": "3.9.13"
  }
 },
 "nbformat": 4,
 "nbformat_minor": 5
}
