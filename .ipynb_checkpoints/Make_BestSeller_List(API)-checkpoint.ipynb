{
 "cells": [
  {
   "cell_type": "code",
   "execution_count": 1,
   "id": "1cdd9933",
   "metadata": {},
   "outputs": [],
   "source": [
    "import requests\n",
    "import time\n",
    "from json import JSONDecodeError\n",
    "from bs4 import BeautifulSoup"
   ]
  },
  {
   "cell_type": "code",
   "execution_count": 2,
   "id": "dea33ae8",
   "metadata": {},
   "outputs": [],
   "source": [
    "# API endpoint\n",
    "url = \"http://data4library.kr/api/loanItemSrch?authKey=f1fc1a713d02a17470687b4edd41210f1fc6568183b647d27bed439dcacd7fd1\""
   ]
  },
  {
   "cell_type": "code",
   "execution_count": 3,
   "id": "800cac3b",
   "metadata": {},
   "outputs": [],
   "source": [
    "# Parameters\n",
    "params = {\n",
    "    \"startDt\": \"20180101\",\n",
    "    \"endDt\": \"20181231\",\n",
    "    \"gender\": '0',\n",
    "    \"age\" : '0',\n",
    "    \"kdc\" : '0',\n",
    "    \"format\" : 'json'\n",
    "}"
   ]
  },
  {
   "cell_type": "code",
   "execution_count": 6,
   "id": "c09471c1",
   "metadata": {},
   "outputs": [
    {
     "name": "stdout",
     "output_type": "stream",
     "text": [
      "{'response': {'request': {'startDt': '20180101', 'endDt': '20181231', 'gender': '0', 'age': '20', 'kdc': '0', 'pageNo': 1, 'pageSize': 200}, 'resultNum': 0, 'numFound': 5000}}\n",
      "{'response': {'request': {'startDt': '20180101', 'endDt': '20181231', 'gender': '0', 'age': '30', 'kdc': '0', 'pageNo': 1, 'pageSize': 200}, 'resultNum': 0, 'numFound': 5000}}\n"
     ]
    },
    {
     "ename": "KeyboardInterrupt",
     "evalue": "",
     "output_type": "error",
     "traceback": [
      "\u001b[1;31m---------------------------------------------------------------------------\u001b[0m",
      "\u001b[1;31mKeyboardInterrupt\u001b[0m                         Traceback (most recent call last)",
      "\u001b[1;32m~\\AppData\\Local\\Temp\\ipykernel_18176\\2652800381.py\u001b[0m in \u001b[0;36m<module>\u001b[1;34m\u001b[0m\n\u001b[0;32m     11\u001b[0m             \u001b[0mparams\u001b[0m\u001b[1;33m[\u001b[0m\u001b[1;34m'age'\u001b[0m\u001b[1;33m]\u001b[0m \u001b[1;33m=\u001b[0m \u001b[0mstr\u001b[0m\u001b[1;33m(\u001b[0m\u001b[0mage\u001b[0m\u001b[1;33m)\u001b[0m\u001b[1;33m\u001b[0m\u001b[1;33m\u001b[0m\u001b[0m\n\u001b[0;32m     12\u001b[0m             \u001b[0mresponse\u001b[0m \u001b[1;33m=\u001b[0m \u001b[0mrequests\u001b[0m\u001b[1;33m.\u001b[0m\u001b[0mget\u001b[0m\u001b[1;33m(\u001b[0m\u001b[0murl\u001b[0m\u001b[1;33m,\u001b[0m \u001b[0mparams\u001b[0m\u001b[1;33m=\u001b[0m\u001b[0mparams\u001b[0m\u001b[1;33m)\u001b[0m\u001b[1;33m\u001b[0m\u001b[1;33m\u001b[0m\u001b[0m\n\u001b[1;32m---> 13\u001b[1;33m             \u001b[0mtime\u001b[0m\u001b[1;33m.\u001b[0m\u001b[0msleep\u001b[0m\u001b[1;33m(\u001b[0m\u001b[1;36m5\u001b[0m\u001b[1;33m)\u001b[0m\u001b[1;33m\u001b[0m\u001b[1;33m\u001b[0m\u001b[0m\n\u001b[0m\u001b[0;32m     14\u001b[0m \u001b[1;33m\u001b[0m\u001b[0m\n\u001b[0;32m     15\u001b[0m             \u001b[1;32mif\u001b[0m \u001b[0mresponse\u001b[0m\u001b[1;33m.\u001b[0m\u001b[0mstatus_code\u001b[0m \u001b[1;33m==\u001b[0m \u001b[1;36m200\u001b[0m\u001b[1;33m:\u001b[0m\u001b[1;33m\u001b[0m\u001b[1;33m\u001b[0m\u001b[0m\n",
      "\u001b[1;31mKeyboardInterrupt\u001b[0m: "
     ]
    }
   ],
   "source": [
    "# 연도 : 2018 ~ 2022\n",
    "# 성별 : 여성 남성 미상\n",
    "# 나이 : 20대 ~ 60대 이상 및 미상\n",
    "for start_day in ['20180101','20190101','20200101','20210101','20220101']:\n",
    "    end_day = start_day[0:4] + '1231'\n",
    "    params['startDt'] = start_day\n",
    "    params['endDt'] = end_day\n",
    "    for gender in [0,1,2]:\n",
    "        params['gender'] = str(gender)\n",
    "        for age in [20,30,40,50,60,-1]:\n",
    "            params['age'] = str(age)\n",
    "            response = requests.get(url, params=params)\n",
    "            time.sleep(5)\n",
    "            \n",
    "            if response.status_code == 200:\n",
    "                try:\n",
    "                    data = response.json()  \n",
    "                    print(data)\n",
    "                except JSONDecodeError:\n",
    "                    print(\"Failed to decode json from response.\")\n",
    "                    print(response.text)\n",
    "            else:\n",
    "                print(\"Error:\", response.status_code)\n",
    "# 쥐피티에 나와 있는 내용 보고 오류 수정하기"
   ]
  },
  {
   "cell_type": "code",
   "execution_count": null,
   "id": "bd9f1d4d",
   "metadata": {},
   "outputs": [],
   "source": [
    "start_day = '20180101'\n",
    "end_day = start_day[0:3] + '1231'\n",
    "params['startDt'] = start_day\n",
    "params['endDt'] = end_day\n",
    "gender = 0\n",
    "age = 20\n",
    "params['gender'] = str(gender)\n",
    "params['age'] = str(age)\n",
    "\n",
    "response = requests.get(url, params=params)\n",
    "\n",
    "if response.status_code == 200:\n",
    "    try:\n",
    "        soup = BeautifulSoup(response.text, 'html.parser')  \n",
    "        print(soup)\n",
    "    except Exception as e:\n",
    "        print(\"Failed to parse HTML from response.\")\n",
    "        print(e)\n",
    "else:\n",
    "    print(\"Error:\", response.status_code)"
   ]
  }
 ],
 "metadata": {
  "kernelspec": {
   "display_name": "Python 3 (ipykernel)",
   "language": "python",
   "name": "python3"
  },
  "language_info": {
   "codemirror_mode": {
    "name": "ipython",
    "version": 3
   },
   "file_extension": ".py",
   "mimetype": "text/x-python",
   "name": "python",
   "nbconvert_exporter": "python",
   "pygments_lexer": "ipython3",
   "version": "3.9.13"
  }
 },
 "nbformat": 4,
 "nbformat_minor": 5
}
