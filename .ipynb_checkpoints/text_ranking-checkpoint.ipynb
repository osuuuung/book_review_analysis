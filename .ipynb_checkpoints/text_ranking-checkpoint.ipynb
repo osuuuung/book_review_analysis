{
 "cells": [
  {
   "cell_type": "code",
   "execution_count": 46,
   "id": "006bae07",
   "metadata": {
    "scrolled": true
   },
   "outputs": [],
   "source": [
    "!pip install PyKomoran\n",
    "!pip install --upgrade PyKomoran\n",
    "import pandas as pd\n",
    "import re\n",
    "from PyKomoran import Komoran, DEFAULT_MODEL\n",
    "import networkx as nx"
   ]
  },
  {
   "cell_type": "code",
   "execution_count": 32,
   "id": "c4ee1dce",
   "metadata": {},
   "outputs": [],
   "source": [
    "# 텍스트 파일 불러오기\n",
    "with open('text.txt', 'r') as file:\n",
    "    text = file.read()\n",
    "\n",
    "# 불용어 리스트 만들기\n",
    "f=open('stopwords.txt','r',encoding='utf-8')\n",
    "stop_words = f.read().splitlines()\n"
   ]
  },
  {
   "cell_type": "code",
   "execution_count": 52,
   "id": "1776c59a",
   "metadata": {
    "scrolled": true
   },
   "outputs": [
    {
     "ename": "Py4JJavaError",
     "evalue": "An error occurred while calling o76.init.\n: java.lang.OutOfMemoryError: Java heap space\r\n",
     "output_type": "error",
     "traceback": [
      "\u001b[1;31m---------------------------------------------------------------------------\u001b[0m",
      "\u001b[1;31mPy4JJavaError\u001b[0m                             Traceback (most recent call last)",
      "\u001b[1;32m~\\AppData\\Local\\Temp\\ipykernel_17800\\3394100103.py\u001b[0m in \u001b[0;36m<module>\u001b[1;34m\u001b[0m\n\u001b[0;32m      1\u001b[0m \u001b[1;31m# Initialize Komoran tokenizer\u001b[0m\u001b[1;33m\u001b[0m\u001b[1;33m\u001b[0m\u001b[0m\n\u001b[1;32m----> 2\u001b[1;33m \u001b[0mkomoran\u001b[0m \u001b[1;33m=\u001b[0m \u001b[0mKomoran\u001b[0m\u001b[1;33m(\u001b[0m\u001b[0mDEFAULT_MODEL\u001b[0m\u001b[1;33m[\u001b[0m\u001b[1;34m'FULL'\u001b[0m\u001b[1;33m]\u001b[0m\u001b[1;33m,\u001b[0m \u001b[0mmax_heap\u001b[0m\u001b[1;33m=\u001b[0m\u001b[1;36m10\u001b[0m \u001b[1;33m*\u001b[0m \u001b[1;36m1024\u001b[0m \u001b[1;33m*\u001b[0m \u001b[1;36m1024\u001b[0m \u001b[1;33m*\u001b[0m \u001b[1;36m1024\u001b[0m\u001b[1;33m)\u001b[0m\u001b[1;33m\u001b[0m\u001b[1;33m\u001b[0m\u001b[0m\n\u001b[0m\u001b[0;32m      3\u001b[0m \u001b[1;33m\u001b[0m\u001b[0m\n\u001b[0;32m      4\u001b[0m \u001b[1;31m# Preprocessing function using KoNLPy2\u001b[0m\u001b[1;33m\u001b[0m\u001b[1;33m\u001b[0m\u001b[0m\n\u001b[0;32m      5\u001b[0m \u001b[1;32mdef\u001b[0m \u001b[0mpreprocess_text\u001b[0m\u001b[1;33m(\u001b[0m\u001b[0mtext\u001b[0m\u001b[1;33m,\u001b[0m \u001b[0mstop_words\u001b[0m\u001b[1;33m)\u001b[0m\u001b[1;33m:\u001b[0m\u001b[1;33m\u001b[0m\u001b[1;33m\u001b[0m\u001b[0m\n",
      "\u001b[1;32m~\\anaconda3\\lib\\site-packages\\PyKomoran\\core.py\u001b[0m in \u001b[0;36m__init__\u001b[1;34m(self, model_path, max_heap)\u001b[0m\n\u001b[0;32m     52\u001b[0m         \u001b[0mself\u001b[0m\u001b[1;33m.\u001b[0m\u001b[0m_komoran\u001b[0m \u001b[1;33m=\u001b[0m \u001b[0mjvm\u001b[0m\u001b[1;33m.\u001b[0m\u001b[0mget_jvm\u001b[0m\u001b[1;33m(\u001b[0m\u001b[1;33m)\u001b[0m\u001b[1;33m.\u001b[0m\u001b[0mkr\u001b[0m\u001b[1;33m.\u001b[0m\u001b[0mco\u001b[0m\u001b[1;33m.\u001b[0m\u001b[0mshineware\u001b[0m\u001b[1;33m.\u001b[0m\u001b[0mnlp\u001b[0m\u001b[1;33m.\u001b[0m\u001b[0mpykomoran\u001b[0m\u001b[1;33m.\u001b[0m\u001b[0mKomoranEntryPoint\u001b[0m\u001b[1;33m(\u001b[0m\u001b[1;33m)\u001b[0m\u001b[1;33m\u001b[0m\u001b[1;33m\u001b[0m\u001b[0m\n\u001b[0;32m     53\u001b[0m \u001b[1;33m\u001b[0m\u001b[0m\n\u001b[1;32m---> 54\u001b[1;33m         \u001b[0mself\u001b[0m\u001b[1;33m.\u001b[0m\u001b[0m_komoran\u001b[0m\u001b[1;33m.\u001b[0m\u001b[0minit\u001b[0m\u001b[1;33m(\u001b[0m\u001b[0mmodel_path\u001b[0m\u001b[1;33m)\u001b[0m\u001b[1;33m\u001b[0m\u001b[1;33m\u001b[0m\u001b[0m\n\u001b[0m\u001b[0;32m     55\u001b[0m         \u001b[1;32mif\u001b[0m \u001b[1;32mnot\u001b[0m \u001b[0mself\u001b[0m\u001b[1;33m.\u001b[0m\u001b[0m_komoran\u001b[0m\u001b[1;33m.\u001b[0m\u001b[0misInitialized\u001b[0m\u001b[1;33m(\u001b[0m\u001b[1;33m)\u001b[0m\u001b[1;33m:\u001b[0m\u001b[1;33m\u001b[0m\u001b[1;33m\u001b[0m\u001b[0m\n\u001b[0;32m     56\u001b[0m             \u001b[1;32mraise\u001b[0m \u001b[0mKomoranError\u001b[0m\u001b[1;33m(\u001b[0m\u001b[1;34m\"Komoran is NOT initialized!\"\u001b[0m\u001b[1;33m)\u001b[0m\u001b[1;33m\u001b[0m\u001b[1;33m\u001b[0m\u001b[0m\n",
      "\u001b[1;32m~\\anaconda3\\lib\\site-packages\\py4j\\java_gateway.py\u001b[0m in \u001b[0;36m__call__\u001b[1;34m(self, *args)\u001b[0m\n\u001b[0;32m   1307\u001b[0m \u001b[1;33m\u001b[0m\u001b[0m\n\u001b[0;32m   1308\u001b[0m         \u001b[0manswer\u001b[0m \u001b[1;33m=\u001b[0m \u001b[0mself\u001b[0m\u001b[1;33m.\u001b[0m\u001b[0mgateway_client\u001b[0m\u001b[1;33m.\u001b[0m\u001b[0msend_command\u001b[0m\u001b[1;33m(\u001b[0m\u001b[0mcommand\u001b[0m\u001b[1;33m)\u001b[0m\u001b[1;33m\u001b[0m\u001b[1;33m\u001b[0m\u001b[0m\n\u001b[1;32m-> 1309\u001b[1;33m         return_value = get_return_value(\n\u001b[0m\u001b[0;32m   1310\u001b[0m             answer, self.gateway_client, self.target_id, self.name)\n\u001b[0;32m   1311\u001b[0m \u001b[1;33m\u001b[0m\u001b[0m\n",
      "\u001b[1;32m~\\anaconda3\\lib\\site-packages\\py4j\\protocol.py\u001b[0m in \u001b[0;36mget_return_value\u001b[1;34m(answer, gateway_client, target_id, name)\u001b[0m\n\u001b[0;32m    324\u001b[0m             \u001b[0mvalue\u001b[0m \u001b[1;33m=\u001b[0m \u001b[0mOUTPUT_CONVERTER\u001b[0m\u001b[1;33m[\u001b[0m\u001b[0mtype\u001b[0m\u001b[1;33m]\u001b[0m\u001b[1;33m(\u001b[0m\u001b[0manswer\u001b[0m\u001b[1;33m[\u001b[0m\u001b[1;36m2\u001b[0m\u001b[1;33m:\u001b[0m\u001b[1;33m]\u001b[0m\u001b[1;33m,\u001b[0m \u001b[0mgateway_client\u001b[0m\u001b[1;33m)\u001b[0m\u001b[1;33m\u001b[0m\u001b[1;33m\u001b[0m\u001b[0m\n\u001b[0;32m    325\u001b[0m             \u001b[1;32mif\u001b[0m \u001b[0manswer\u001b[0m\u001b[1;33m[\u001b[0m\u001b[1;36m1\u001b[0m\u001b[1;33m]\u001b[0m \u001b[1;33m==\u001b[0m \u001b[0mREFERENCE_TYPE\u001b[0m\u001b[1;33m:\u001b[0m\u001b[1;33m\u001b[0m\u001b[1;33m\u001b[0m\u001b[0m\n\u001b[1;32m--> 326\u001b[1;33m                 raise Py4JJavaError(\n\u001b[0m\u001b[0;32m    327\u001b[0m                     \u001b[1;34m\"An error occurred while calling {0}{1}{2}.\\n\"\u001b[0m\u001b[1;33m.\u001b[0m\u001b[1;33m\u001b[0m\u001b[1;33m\u001b[0m\u001b[0m\n\u001b[0;32m    328\u001b[0m                     format(target_id, \".\", name), value)\n",
      "\u001b[1;31mPy4JJavaError\u001b[0m: An error occurred while calling o76.init.\n: java.lang.OutOfMemoryError: Java heap space\r\n"
     ]
    }
   ],
   "source": [
    "# Initialize Komoran tokenizer\n",
    "komoran = Komoran(DEFAULT_MODEL['FULL'], max_heap=10 * 1024 * 1024 * 1024)\n",
    "\n",
    "# Preprocessing function using KoNLPy2\n",
    "def preprocess_text(text, stop_words):\n",
    "    # Remove non-Korean characters and whitespace\n",
    "    text = re.sub(r'[^가-힣\\s]', '', text)\n",
    "    print(text)\n",
    "    # Tokenize the text using Komoran\n",
    "    morphs = komoran.get_list(text)\n",
    "    print(morphs)\n",
    "    # Remove stopwords\n",
    "    words = [word for word in morphs if word not in stop_words]\n",
    "    print(words)\n",
    "    return words\n",
    "\n",
    "preprocessed_words = preprocess_text(text, stop_words)"
   ]
  },
  {
   "cell_type": "code",
   "execution_count": 24,
   "id": "83789b53",
   "metadata": {},
   "outputs": [],
   "source": [
    "# 단어 그래프를 편집하는 함수\n",
    "def word_graph(sentence):\n",
    "    # Create a graph representation of the sentences\n",
    "    \n",
    "    for word in sentence:\n",
    "        graph.add_node(word)\n",
    "    for i in range(len(sentence)):\n",
    "        for j in range(i+1, len(sentence)):\n",
    "            word1, word2 = sentence[i], sentence[j]\n",
    "            if graph.has_edge(word1, word2):\n",
    "                graph[word1][word2]['weight'] += 1\n",
    "            else:\n",
    "                graph.add_edge(word1, word2, weight=1)\n",
    "                \n",
    "    return graph\n",
    "\n",
    "# 텍스트 랭킹 함수\n",
    "def text_ranking(graph,num_keywords=10, damping_factor=0.85, max_iter=100, tol=1e-4):\n",
    "\n",
    "    # PageRank algorithm to get keywords\n",
    "    pagerank_scores = nx.pagerank(graph, alpha=damping_factor, max_iter=max_iter, tol=tol)\n",
    "\n",
    "    # Sort the keywords based on their PageRank scores\n",
    "    keywords = sorted(pagerank_scores, key=pagerank_scores.get, reverse=True)[:num_keywords]\n",
    "    \n",
    "    return keywords\n",
    "\n",
    "\n",
    "# 그래프 생성\n",
    "graph = nx.Graph()\n",
    "\n",
    "new_graph = word_graph(preprocessed_words)\n",
    "\n",
    "keywords = text_ranking(new_graph)\n"
   ]
  },
  {
   "cell_type": "code",
   "execution_count": 25,
   "id": "d7d16086",
   "metadata": {
    "scrolled": false
   },
   "outputs": [
    {
     "name": "stdout",
     "output_type": "stream",
     "text": [
      "[]\n"
     ]
    }
   ],
   "source": [
    "print(keywords)"
   ]
  },
  {
   "cell_type": "markdown",
   "id": "80e964e9",
   "metadata": {},
   "source": [
    "### 특정 품사들만 추출하도록 변경하는 게 좋을 듯"
   ]
  }
 ],
 "metadata": {
  "kernelspec": {
   "display_name": "Python 3 (ipykernel)",
   "language": "python",
   "name": "python3"
  },
  "language_info": {
   "codemirror_mode": {
    "name": "ipython",
    "version": 3
   },
   "file_extension": ".py",
   "mimetype": "text/x-python",
   "name": "python",
   "nbconvert_exporter": "python",
   "pygments_lexer": "ipython3",
   "version": "3.9.13"
  }
 },
 "nbformat": 4,
 "nbformat_minor": 5
}
