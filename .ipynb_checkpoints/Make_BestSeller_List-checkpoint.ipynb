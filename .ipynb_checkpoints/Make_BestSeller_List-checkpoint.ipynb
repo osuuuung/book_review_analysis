{
 "cells": [
  {
   "cell_type": "code",
   "execution_count": 1,
   "id": "e04e3e94",
   "metadata": {},
   "outputs": [],
   "source": [
    "# 우선 '도서관 정보나루'에서 자동으로 각각의 조합 별 카테고리 만드는 걸 해야 됨"
   ]
  },
  {
   "cell_type": "code",
   "execution_count": 2,
   "id": "33ca8773",
   "metadata": {},
   "outputs": [],
   "source": [
    "import os\n",
    "from selenium import webdriver\n",
    "import time\n",
    "import pandas as pd\n",
    "import numpy as np\n",
    "from selenium.webdriver.common.by import By\n",
    "from selenium.webdriver.support.ui import WebDriverWait\n",
    "from selenium.webdriver.support import expected_conditions as EC\n",
    "from openpyxl import Workbook\n",
    "from selenium.webdriver.chrome.options import Options\n",
    "from selenium.webdriver.support.ui import Select\n",
    "from selenium.webdriver.common.keys import Keys"
   ]
  },
  {
   "cell_type": "code",
   "execution_count": null,
   "id": "dd59fa80",
   "metadata": {},
   "outputs": [],
   "source": [
    "# 조합의 경우의 수를 모두 구하는 함수\n",
    "def condition_collaboration(driver):\n",
    "    driver.get('https://www.data4library.kr/loanDataL')\n",
    "    time.sleep(3)\n",
    "    "
   ]
  }
 ],
 "metadata": {
  "kernelspec": {
   "display_name": "Python 3 (ipykernel)",
   "language": "python",
   "name": "python3"
  },
  "language_info": {
   "codemirror_mode": {
    "name": "ipython",
    "version": 3
   },
   "file_extension": ".py",
   "mimetype": "text/x-python",
   "name": "python",
   "nbconvert_exporter": "python",
   "pygments_lexer": "ipython3",
   "version": "3.9.13"
  }
 },
 "nbformat": 4,
 "nbformat_minor": 5
}
